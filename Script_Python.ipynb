{
  "nbformat": 4,
  "nbformat_minor": 0,
  "metadata": {
    "colab": {
      "name": "Script Python.ipynb",
      "provenance": [],
      "collapsed_sections": [],
      "authorship_tag": "ABX9TyPAd0kiarExwDNiuFocxoEG",
      "include_colab_link": true
    },
    "kernelspec": {
      "name": "python3",
      "display_name": "Python 3"
    },
    "language_info": {
      "name": "python"
    }
  },
  "cells": [
    {
      "cell_type": "markdown",
      "metadata": {
        "id": "view-in-github",
        "colab_type": "text"
      },
      "source": [
        "<a href=\"https://colab.research.google.com/github/cibellelepore/curso_analisededados/blob/main/Script_Python.ipynb\" target=\"_parent\"><img src=\"https://colab.research.google.com/assets/colab-badge.svg\" alt=\"Open In Colab\"/></a>"
      ]
    },
    {
      "cell_type": "markdown",
      "source": [
        "CURSO DE ANÁLISE DE DADOS EM PYTHON"
      ],
      "metadata": {
        "id": "kEyubIU0ZGI0"
      }
    },
    {
      "cell_type": "markdown",
      "source": [
        "Primeiros passos em Python"
      ],
      "metadata": {
        "id": "E926_pCSY94c"
      }
    },
    {
      "cell_type": "code",
      "source": [
        "print(\"Bem-vindo ao curso de Python\")"
      ],
      "metadata": {
        "colab": {
          "base_uri": "https://localhost:8080/"
        },
        "id": "9fTYKfESZFAk",
        "outputId": "43d23040-9ae2-4b2f-9ebc-4187bf602869"
      },
      "execution_count": 1,
      "outputs": [
        {
          "output_type": "stream",
          "name": "stdout",
          "text": [
            "Bem-vindo ao curso de Python\n"
          ]
        }
      ]
    },
    {
      "cell_type": "code",
      "source": [
        "# - usado para fazer comentário"
      ],
      "metadata": {
        "id": "abmBOHPCZ13e"
      },
      "execution_count": 2,
      "outputs": []
    },
    {
      "cell_type": "code",
      "source": [
        "'''\n",
        "Ele aceita tres aspas simples para fazer comentario - no terminal\n",
        "'''"
      ],
      "metadata": {
        "colab": {
          "base_uri": "https://localhost:8080/",
          "height": 35
        },
        "id": "eUcF2yOGZ696",
        "outputId": "a6af48c2-b950-4d3f-d763-08f1e804b5ad"
      },
      "execution_count": 3,
      "outputs": [
        {
          "output_type": "execute_result",
          "data": {
            "text/plain": [
              "'\\nEle aceita tres aspas simples para fazer comentario - no terminal\\n'"
            ],
            "application/vnd.google.colaboratory.intrinsic+json": {
              "type": "string"
            }
          },
          "metadata": {},
          "execution_count": 3
        }
      ]
    },
    {
      "cell_type": "code",
      "source": [
        ""
      ],
      "metadata": {
        "id": "IPRjD1OdaIyk"
      },
      "execution_count": null,
      "outputs": []
    }
  ]
}