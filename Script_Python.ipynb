{
  "nbformat": 4,
  "nbformat_minor": 0,
  "metadata": {
    "colab": {
      "name": "Script Python.ipynb",
      "provenance": [],
      "collapsed_sections": [],
      "authorship_tag": "ABX9TyOfJUua/+jlg30rKqIfVXuo",
      "include_colab_link": true
    },
    "kernelspec": {
      "name": "python3",
      "display_name": "Python 3"
    },
    "language_info": {
      "name": "python"
    }
  },
  "cells": [
    {
      "cell_type": "markdown",
      "metadata": {
        "id": "view-in-github",
        "colab_type": "text"
      },
      "source": [
        "<a href=\"https://colab.research.google.com/github/cibellelepore/curso_analisededados/blob/main/Script_Python.ipynb\" target=\"_parent\"><img src=\"https://colab.research.google.com/assets/colab-badge.svg\" alt=\"Open In Colab\"/></a>"
      ]
    },
    {
      "cell_type": "markdown",
      "source": [
        "CURSO DE ANÁLISE DE DADOS EM *PYTHON* "
      ],
      "metadata": {
        "id": "kEyubIU0ZGI0"
      }
    },
    {
      "cell_type": "markdown",
      "source": [
        "**1 - Primeiros Passos**"
      ],
      "metadata": {
        "id": "E926_pCSY94c"
      }
    },
    {
      "cell_type": "code",
      "source": [
        "print(\"Bem-vindo ao curso de Python\")"
      ],
      "metadata": {
        "colab": {
          "base_uri": "https://localhost:8080/"
        },
        "id": "9fTYKfESZFAk",
        "outputId": "43d23040-9ae2-4b2f-9ebc-4187bf602869"
      },
      "execution_count": 1,
      "outputs": [
        {
          "output_type": "stream",
          "name": "stdout",
          "text": [
            "Bem-vindo ao curso de Python\n"
          ]
        }
      ]
    },
    {
      "cell_type": "code",
      "source": [
        "# - usado para fazer comentário"
      ],
      "metadata": {
        "id": "abmBOHPCZ13e"
      },
      "execution_count": 2,
      "outputs": []
    },
    {
      "cell_type": "code",
      "source": [
        "'''\n",
        "Ele aceita tres aspas simples para fazer comentario - no terminal\n",
        "'''"
      ],
      "metadata": {
        "colab": {
          "base_uri": "https://localhost:8080/",
          "height": 35
        },
        "id": "eUcF2yOGZ696",
        "outputId": "a6af48c2-b950-4d3f-d763-08f1e804b5ad"
      },
      "execution_count": 3,
      "outputs": [
        {
          "output_type": "execute_result",
          "data": {
            "text/plain": [
              "'\\nEle aceita tres aspas simples para fazer comentario - no terminal\\n'"
            ],
            "application/vnd.google.colaboratory.intrinsic+json": {
              "type": "string"
            }
          },
          "metadata": {},
          "execution_count": 3
        }
      ]
    },
    {
      "cell_type": "markdown",
      "source": [
        "**2 - Operadores Matemáticos**"
      ],
      "metadata": {
        "id": "5g4hSZumeNkF"
      }
    },
    {
      "cell_type": "code",
      "source": [
        "# Soma\n",
        "1 + 5 "
      ],
      "metadata": {
        "colab": {
          "base_uri": "https://localhost:8080/"
        },
        "id": "IPRjD1OdaIyk",
        "outputId": "9e7fdf0e-1c9b-4964-cfad-a2667d432c03"
      },
      "execution_count": 5,
      "outputs": [
        {
          "output_type": "execute_result",
          "data": {
            "text/plain": [
              "6"
            ]
          },
          "metadata": {},
          "execution_count": 5
        }
      ]
    },
    {
      "cell_type": "code",
      "source": [
        "# Subtração\n",
        "10 - 5 "
      ],
      "metadata": {
        "colab": {
          "base_uri": "https://localhost:8080/"
        },
        "id": "xauoXzYhebtE",
        "outputId": "00d21490-51a1-4ffa-e6e4-c0d05d194dd2"
      },
      "execution_count": 8,
      "outputs": [
        {
          "output_type": "execute_result",
          "data": {
            "text/plain": [
              "5"
            ]
          },
          "metadata": {},
          "execution_count": 8
        }
      ]
    },
    {
      "cell_type": "code",
      "source": [
        "# multiplicacao\n",
        "2 * 3 "
      ],
      "metadata": {
        "colab": {
          "base_uri": "https://localhost:8080/"
        },
        "id": "1vb5102vngfg",
        "outputId": "9b9a2722-bd09-4e2d-8784-41b431e16569"
      },
      "execution_count": 9,
      "outputs": [
        {
          "output_type": "execute_result",
          "data": {
            "text/plain": [
              "6"
            ]
          },
          "metadata": {},
          "execution_count": 9
        }
      ]
    },
    {
      "cell_type": "code",
      "source": [
        "# Divisão\n",
        "10 / 2 "
      ],
      "metadata": {
        "colab": {
          "base_uri": "https://localhost:8080/"
        },
        "id": "7qSRn_2Cnq1X",
        "outputId": "13f1c886-073c-47bd-d315-4a11a962a8f9"
      },
      "execution_count": 10,
      "outputs": [
        {
          "output_type": "execute_result",
          "data": {
            "text/plain": [
              "5.0"
            ]
          },
          "metadata": {},
          "execution_count": 10
        }
      ]
    },
    {
      "cell_type": "code",
      "source": [
        "# Exponenciacao\n",
        "\n",
        "2 ** 3  "
      ],
      "metadata": {
        "colab": {
          "base_uri": "https://localhost:8080/"
        },
        "id": "wS806zZ1nuv9",
        "outputId": "86ca52d4-f432-4b61-8533-df8e8d00aac9"
      },
      "execution_count": 11,
      "outputs": [
        {
          "output_type": "execute_result",
          "data": {
            "text/plain": [
              "8"
            ]
          },
          "metadata": {},
          "execution_count": 11
        }
      ]
    },
    {
      "cell_type": "markdown",
      "source": [
        "3 - **Variáveis**"
      ],
      "metadata": {
        "id": "4uQM3M6to0dL"
      }
    },
    {
      "cell_type": "code",
      "source": [
        "# Variaveis\n",
        "Nome = \"Cibelle\""
      ],
      "metadata": {
        "id": "4ci7bvJFn46m"
      },
      "execution_count": 12,
      "outputs": []
    },
    {
      "cell_type": "code",
      "source": [
        "\n",
        "Nome"
      ],
      "metadata": {
        "colab": {
          "base_uri": "https://localhost:8080/",
          "height": 35
        },
        "id": "nL-nBuAEn5Dw",
        "outputId": "34ec5e54-7899-411e-cff1-16afab693172"
      },
      "execution_count": 13,
      "outputs": [
        {
          "output_type": "execute_result",
          "data": {
            "text/plain": [
              "'Cibelle'"
            ],
            "application/vnd.google.colaboratory.intrinsic+json": {
              "type": "string"
            }
          },
          "metadata": {},
          "execution_count": 13
        }
      ]
    },
    {
      "cell_type": "code",
      "source": [
        "# Variaveis de Texto\n",
        "Var_texto1 = \"Qualquer texto1\"\n",
        "Var_texto2 = str(\"Qualquer texto\")\n",
        "\n",
        "print(Var_texto1, Var_texto2)"
      ],
      "metadata": {
        "colab": {
          "base_uri": "https://localhost:8080/"
        },
        "id": "yE6huEEEpLqy",
        "outputId": "9657ec5b-2f55-4466-83a5-3af7c0527b05"
      },
      "execution_count": 17,
      "outputs": [
        {
          "output_type": "stream",
          "name": "stdout",
          "text": [
            "Qualquer texto1 Qualquer texto\n"
          ]
        }
      ]
    },
    {
      "cell_type": "code",
      "source": [
        "# Variaveis numericas\n",
        "Var_Inteiro_01 = 100\n",
        "Var_Inteiro_02 = int(200)\n",
        "\n",
        "print(Var_Inteiro_01, Var_Inteiro_02)"
      ],
      "metadata": {
        "colab": {
          "base_uri": "https://localhost:8080/"
        },
        "id": "5Hc1V9A4pLzJ",
        "outputId": "a2a254e6-f1d3-4195-a717-fa562ce2736a"
      },
      "execution_count": 18,
      "outputs": [
        {
          "output_type": "stream",
          "name": "stdout",
          "text": [
            "100 200\n"
          ]
        }
      ]
    },
    {
      "cell_type": "code",
      "source": [
        "# Variaveis Flutuantes (decimais)\n",
        "Var_Flutuante_01 = 10.90\n",
        "Var_Flutuante_02 = float(12.2)\n",
        "\n",
        "print(Var_Flutuante_01, Var_Flutuante_02)"
      ],
      "metadata": {
        "colab": {
          "base_uri": "https://localhost:8080/"
        },
        "id": "37JrMaurpL7Q",
        "outputId": "7ae6d189-ef37-4f18-9cf8-d1f5a8293938"
      },
      "execution_count": 19,
      "outputs": [
        {
          "output_type": "stream",
          "name": "stdout",
          "text": [
            "10.9 12.2\n"
          ]
        }
      ]
    },
    {
      "cell_type": "code",
      "source": [
        "# Variaveis Boleanas \n",
        "Var_Booleano_01 = True\n",
        "Var_Booleano_02 = False\n",
        "\n",
        "print( Var_Booleano_01, Var_Booleano_02)"
      ],
      "metadata": {
        "colab": {
          "base_uri": "https://localhost:8080/"
        },
        "id": "kFH-LgHXqlKa",
        "outputId": "189a40ca-3b2f-42d3-b8ff-95a1d84d1ddc"
      },
      "execution_count": 20,
      "outputs": [
        {
          "output_type": "stream",
          "name": "stdout",
          "text": [
            "True False\n"
          ]
        }
      ]
    },
    {
      "cell_type": "markdown",
      "source": [
        "**4 - Tipos de Dados**"
      ],
      "metadata": {
        "id": "WRkur0NFsMoH"
      }
    },
    {
      "cell_type": "code",
      "source": [
        "# Listas - cria utilizando []\n",
        "Lista_Exemplo = [1,5,9,11]\n",
        "print(Lista_Exemplo)"
      ],
      "metadata": {
        "colab": {
          "base_uri": "https://localhost:8080/"
        },
        "id": "B0IHeTDvszt7",
        "outputId": "a5886829-f05a-4b28-a3cb-b20f4103ec49"
      },
      "execution_count": 21,
      "outputs": [
        {
          "output_type": "stream",
          "name": "stdout",
          "text": [
            "[1, 5, 9, 11]\n"
          ]
        }
      ]
    },
    {
      "cell_type": "code",
      "source": [
        "# Tuplas - cria utilizando () as tuplas são imutáveis\n",
        "Tupla_Ex = (\"casa\", 5, 10.5, True )\n",
        "\n",
        "print(Tupla_Ex)"
      ],
      "metadata": {
        "colab": {
          "base_uri": "https://localhost:8080/"
        },
        "id": "n--d0eMwtapB",
        "outputId": "cc9f5944-2882-45d4-9a37-edbbf3058dc7"
      },
      "execution_count": 23,
      "outputs": [
        {
          "output_type": "stream",
          "name": "stdout",
          "text": [
            "('casa', 5, 10.5, True)\n"
          ]
        }
      ]
    },
    {
      "cell_type": "code",
      "source": [
        "# Dicionarios \n",
        "Dicionario = { \n",
        "    \"Id\" : 3\n",
        "    \"Id\" : 2\n",
        "    \"Nome\" : \"João\"\n",
        "} "
      ],
      "metadata": {
        "id": "vtviAvNKtagx"
      },
      "execution_count": null,
      "outputs": []
    },
    {
      "cell_type": "markdown",
      "source": [
        "**5 - Nomeação de variáveis**"
      ],
      "metadata": {
        "id": "VPx19dAhuv6N"
      }
    },
    {
      "cell_type": "code",
      "source": [
        "# 1 forma de nomear - primeira opcão o python faz correspondecia entre as variaveis\n",
        "\n",
        "Melancia, Caju, Laranja = 2, 8, 11\n",
        "\n",
        "print(Melancia, Caju, Laranja)"
      ],
      "metadata": {
        "colab": {
          "base_uri": "https://localhost:8080/"
        },
        "id": "JJlJXbGhtaUR",
        "outputId": "42eced69-b174-4cf9-b80c-34bd017ef9e9"
      },
      "execution_count": 25,
      "outputs": [
        {
          "output_type": "stream",
          "name": "stdout",
          "text": [
            "2 8 11\n"
          ]
        }
      ]
    },
    {
      "cell_type": "code",
      "source": [
        "# 2 forma de nomear - atribuir um valor global, para todas as variaveis\n",
        "\n",
        "Morango = Laranja = Lima = 122   #todas as frutas vao receber o valor de 122\n",
        "\n",
        "print(Morango, Laranja, Lima)\n",
        "\n"
      ],
      "metadata": {
        "colab": {
          "base_uri": "https://localhost:8080/"
        },
        "id": "UkrpP5oUwb0J",
        "outputId": "36f055b4-4e4f-4860-b018-1157d23bc69a"
      },
      "execution_count": 26,
      "outputs": [
        {
          "output_type": "stream",
          "name": "stdout",
          "text": [
            "122 122 122\n"
          ]
        }
      ]
    },
    {
      "cell_type": "code",
      "source": [
        "# 3 forma de nomear como lista\n",
        "\n",
        "Lista_Carros = [\"W\", \"Audi\", \"Ford\"]\n",
        "marca_01, marca_02, marca_03 = Lista_Carros\n",
        "\n",
        "print(marca_01, marca_02, marca_03)"
      ],
      "metadata": {
        "colab": {
          "base_uri": "https://localhost:8080/"
        },
        "id": "LnIvd7pawbnw",
        "outputId": "91fb5cfe-6617-4d75-c8d0-4a2e7fd4d0f5"
      },
      "execution_count": 27,
      "outputs": [
        {
          "output_type": "stream",
          "name": "stdout",
          "text": [
            "W Audi Ford\n"
          ]
        }
      ]
    }
  ]
}