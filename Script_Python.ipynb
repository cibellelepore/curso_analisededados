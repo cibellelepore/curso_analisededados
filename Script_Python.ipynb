{
  "nbformat": 4,
  "nbformat_minor": 0,
  "metadata": {
    "colab": {
      "name": "Script Python.ipynb",
      "provenance": [],
      "collapsed_sections": [],
      "authorship_tag": "ABX9TyObEvbnjDHxLigzMAkjXe95",
      "include_colab_link": true
    },
    "kernelspec": {
      "name": "python3",
      "display_name": "Python 3"
    },
    "language_info": {
      "name": "python"
    }
  },
  "cells": [
    {
      "cell_type": "markdown",
      "metadata": {
        "id": "view-in-github",
        "colab_type": "text"
      },
      "source": [
        "<a href=\"https://colab.research.google.com/github/cibellelepore/curso_analisededados/blob/main/Script_Python.ipynb\" target=\"_parent\"><img src=\"https://colab.research.google.com/assets/colab-badge.svg\" alt=\"Open In Colab\"/></a>"
      ]
    },
    {
      "cell_type": "markdown",
      "source": [
        "CURSO DE ANÁLISE DE DADOS EM *PYTHON* "
      ],
      "metadata": {
        "id": "kEyubIU0ZGI0"
      }
    },
    {
      "cell_type": "markdown",
      "source": [
        "**1 - Primeiros Passos**"
      ],
      "metadata": {
        "id": "E926_pCSY94c"
      }
    },
    {
      "cell_type": "code",
      "source": [
        "print(\"Bem-vindo ao curso de Python\")"
      ],
      "metadata": {
        "colab": {
          "base_uri": "https://localhost:8080/"
        },
        "id": "9fTYKfESZFAk",
        "outputId": "43d23040-9ae2-4b2f-9ebc-4187bf602869"
      },
      "execution_count": null,
      "outputs": [
        {
          "output_type": "stream",
          "name": "stdout",
          "text": [
            "Bem-vindo ao curso de Python\n"
          ]
        }
      ]
    },
    {
      "cell_type": "code",
      "source": [
        "# - usado para fazer comentário"
      ],
      "metadata": {
        "id": "abmBOHPCZ13e"
      },
      "execution_count": null,
      "outputs": []
    },
    {
      "cell_type": "code",
      "source": [
        "'''\n",
        "Ele aceita tres aspas simples para fazer comentario - no terminal\n",
        "'''"
      ],
      "metadata": {
        "colab": {
          "base_uri": "https://localhost:8080/",
          "height": 35
        },
        "id": "eUcF2yOGZ696",
        "outputId": "a6af48c2-b950-4d3f-d763-08f1e804b5ad"
      },
      "execution_count": null,
      "outputs": [
        {
          "output_type": "execute_result",
          "data": {
            "text/plain": [
              "'\\nEle aceita tres aspas simples para fazer comentario - no terminal\\n'"
            ],
            "application/vnd.google.colaboratory.intrinsic+json": {
              "type": "string"
            }
          },
          "metadata": {},
          "execution_count": 3
        }
      ]
    },
    {
      "cell_type": "markdown",
      "source": [
        "**2 - Operadores Matemáticos**"
      ],
      "metadata": {
        "id": "5g4hSZumeNkF"
      }
    },
    {
      "cell_type": "code",
      "source": [
        "# Soma\n",
        "1 + 5 "
      ],
      "metadata": {
        "colab": {
          "base_uri": "https://localhost:8080/"
        },
        "id": "IPRjD1OdaIyk",
        "outputId": "9e7fdf0e-1c9b-4964-cfad-a2667d432c03"
      },
      "execution_count": null,
      "outputs": [
        {
          "output_type": "execute_result",
          "data": {
            "text/plain": [
              "6"
            ]
          },
          "metadata": {},
          "execution_count": 5
        }
      ]
    },
    {
      "cell_type": "code",
      "source": [
        "# Subtração\n",
        "10 - 5 "
      ],
      "metadata": {
        "colab": {
          "base_uri": "https://localhost:8080/"
        },
        "id": "xauoXzYhebtE",
        "outputId": "00d21490-51a1-4ffa-e6e4-c0d05d194dd2"
      },
      "execution_count": null,
      "outputs": [
        {
          "output_type": "execute_result",
          "data": {
            "text/plain": [
              "5"
            ]
          },
          "metadata": {},
          "execution_count": 8
        }
      ]
    },
    {
      "cell_type": "code",
      "source": [
        "# multiplicacao\n",
        "2 * 3 "
      ],
      "metadata": {
        "colab": {
          "base_uri": "https://localhost:8080/"
        },
        "id": "1vb5102vngfg",
        "outputId": "9b9a2722-bd09-4e2d-8784-41b431e16569"
      },
      "execution_count": null,
      "outputs": [
        {
          "output_type": "execute_result",
          "data": {
            "text/plain": [
              "6"
            ]
          },
          "metadata": {},
          "execution_count": 9
        }
      ]
    },
    {
      "cell_type": "code",
      "source": [
        "# Divisão\n",
        "10 / 2 "
      ],
      "metadata": {
        "colab": {
          "base_uri": "https://localhost:8080/"
        },
        "id": "7qSRn_2Cnq1X",
        "outputId": "13f1c886-073c-47bd-d315-4a11a962a8f9"
      },
      "execution_count": null,
      "outputs": [
        {
          "output_type": "execute_result",
          "data": {
            "text/plain": [
              "5.0"
            ]
          },
          "metadata": {},
          "execution_count": 10
        }
      ]
    },
    {
      "cell_type": "code",
      "source": [
        "# Exponenciacao\n",
        "\n",
        "2 ** 3  "
      ],
      "metadata": {
        "colab": {
          "base_uri": "https://localhost:8080/"
        },
        "id": "wS806zZ1nuv9",
        "outputId": "86ca52d4-f432-4b61-8533-df8e8d00aac9"
      },
      "execution_count": null,
      "outputs": [
        {
          "output_type": "execute_result",
          "data": {
            "text/plain": [
              "8"
            ]
          },
          "metadata": {},
          "execution_count": 11
        }
      ]
    },
    {
      "cell_type": "markdown",
      "source": [
        "3 - **Variáveis**"
      ],
      "metadata": {
        "id": "4uQM3M6to0dL"
      }
    },
    {
      "cell_type": "code",
      "source": [
        "# Variaveis\n",
        "Nome = \"Cibelle\""
      ],
      "metadata": {
        "id": "4ci7bvJFn46m"
      },
      "execution_count": null,
      "outputs": []
    },
    {
      "cell_type": "code",
      "source": [
        "\n",
        "Nome"
      ],
      "metadata": {
        "colab": {
          "base_uri": "https://localhost:8080/",
          "height": 35
        },
        "id": "nL-nBuAEn5Dw",
        "outputId": "34ec5e54-7899-411e-cff1-16afab693172"
      },
      "execution_count": null,
      "outputs": [
        {
          "output_type": "execute_result",
          "data": {
            "text/plain": [
              "'Cibelle'"
            ],
            "application/vnd.google.colaboratory.intrinsic+json": {
              "type": "string"
            }
          },
          "metadata": {},
          "execution_count": 13
        }
      ]
    },
    {
      "cell_type": "code",
      "source": [
        "# Variaveis de Texto\n",
        "Var_texto1 = \"Qualquer texto1\"\n",
        "Var_texto2 = str(\"Qualquer texto\")\n",
        "\n",
        "print(Var_texto1, Var_texto2)"
      ],
      "metadata": {
        "colab": {
          "base_uri": "https://localhost:8080/"
        },
        "id": "yE6huEEEpLqy",
        "outputId": "9657ec5b-2f55-4466-83a5-3af7c0527b05"
      },
      "execution_count": null,
      "outputs": [
        {
          "output_type": "stream",
          "name": "stdout",
          "text": [
            "Qualquer texto1 Qualquer texto\n"
          ]
        }
      ]
    },
    {
      "cell_type": "code",
      "source": [
        "# Variaveis numericas\n",
        "Var_Inteiro_01 = 100\n",
        "Var_Inteiro_02 = int(200)\n",
        "\n",
        "print(Var_Inteiro_01, Var_Inteiro_02)"
      ],
      "metadata": {
        "colab": {
          "base_uri": "https://localhost:8080/"
        },
        "id": "5Hc1V9A4pLzJ",
        "outputId": "a2a254e6-f1d3-4195-a717-fa562ce2736a"
      },
      "execution_count": null,
      "outputs": [
        {
          "output_type": "stream",
          "name": "stdout",
          "text": [
            "100 200\n"
          ]
        }
      ]
    },
    {
      "cell_type": "code",
      "source": [
        "# Variaveis Flutuantes (decimais)\n",
        "Var_Flutuante_01 = 10.90\n",
        "Var_Flutuante_02 = float(12.2)\n",
        "\n",
        "print(Var_Flutuante_01, Var_Flutuante_02)"
      ],
      "metadata": {
        "colab": {
          "base_uri": "https://localhost:8080/"
        },
        "id": "37JrMaurpL7Q",
        "outputId": "7ae6d189-ef37-4f18-9cf8-d1f5a8293938"
      },
      "execution_count": null,
      "outputs": [
        {
          "output_type": "stream",
          "name": "stdout",
          "text": [
            "10.9 12.2\n"
          ]
        }
      ]
    },
    {
      "cell_type": "code",
      "source": [
        "# Variaveis Boleanas \n",
        "Var_Booleano_01 = True\n",
        "Var_Booleano_02 = False\n",
        "\n",
        "print( Var_Booleano_01, Var_Booleano_02)"
      ],
      "metadata": {
        "colab": {
          "base_uri": "https://localhost:8080/"
        },
        "id": "kFH-LgHXqlKa",
        "outputId": "189a40ca-3b2f-42d3-b8ff-95a1d84d1ddc"
      },
      "execution_count": null,
      "outputs": [
        {
          "output_type": "stream",
          "name": "stdout",
          "text": [
            "True False\n"
          ]
        }
      ]
    },
    {
      "cell_type": "markdown",
      "source": [
        "**4 - Tipos de Dados**"
      ],
      "metadata": {
        "id": "WRkur0NFsMoH"
      }
    },
    {
      "cell_type": "code",
      "source": [
        "# Listas - cria utilizando []\n",
        "Lista_Exemplo = [1,5,9,11]\n",
        "print(Lista_Exemplo)"
      ],
      "metadata": {
        "colab": {
          "base_uri": "https://localhost:8080/"
        },
        "id": "B0IHeTDvszt7",
        "outputId": "a5886829-f05a-4b28-a3cb-b20f4103ec49"
      },
      "execution_count": null,
      "outputs": [
        {
          "output_type": "stream",
          "name": "stdout",
          "text": [
            "[1, 5, 9, 11]\n"
          ]
        }
      ]
    },
    {
      "cell_type": "code",
      "source": [
        "# Tuplas - cria utilizando () as tuplas são imutáveis\n",
        "Tupla_Ex = (\"casa\", 5, 10.5, True )\n",
        "\n",
        "print(Tupla_Ex)"
      ],
      "metadata": {
        "colab": {
          "base_uri": "https://localhost:8080/"
        },
        "id": "n--d0eMwtapB",
        "outputId": "cc9f5944-2882-45d4-9a37-edbbf3058dc7"
      },
      "execution_count": null,
      "outputs": [
        {
          "output_type": "stream",
          "name": "stdout",
          "text": [
            "('casa', 5, 10.5, True)\n"
          ]
        }
      ]
    },
    {
      "cell_type": "code",
      "source": [
        "# Dicionarios  - é formado por um index e um valor\n",
        "Dicionario = { \n",
        "    \"Id\" : 3\n",
        "    \"Id\" : 2\n",
        "    \"Nome\" : \"João\"\n",
        "} "
      ],
      "metadata": {
        "id": "vtviAvNKtagx"
      },
      "execution_count": null,
      "outputs": []
    },
    {
      "cell_type": "markdown",
      "source": [
        "**5 - Nomeação de variáveis**"
      ],
      "metadata": {
        "id": "VPx19dAhuv6N"
      }
    },
    {
      "cell_type": "code",
      "source": [
        "# 1 forma de nomear - primeira opcão o python faz correspondecia entre as variaveis\n",
        "\n",
        "Melancia, Caju, Laranja = 2, 8, 11\n",
        "\n",
        "print(Melancia, Caju, Laranja)"
      ],
      "metadata": {
        "colab": {
          "base_uri": "https://localhost:8080/"
        },
        "id": "JJlJXbGhtaUR",
        "outputId": "42eced69-b174-4cf9-b80c-34bd017ef9e9"
      },
      "execution_count": null,
      "outputs": [
        {
          "output_type": "stream",
          "name": "stdout",
          "text": [
            "2 8 11\n"
          ]
        }
      ]
    },
    {
      "cell_type": "code",
      "source": [
        "# 2 forma de nomear - atribuir um valor global, para todas as variaveis\n",
        "\n",
        "Morango = Laranja = Lima = 122   #todas as frutas vao receber o valor de 122\n",
        "\n",
        "print(Morango, Laranja, Lima)\n",
        "\n"
      ],
      "metadata": {
        "colab": {
          "base_uri": "https://localhost:8080/"
        },
        "id": "UkrpP5oUwb0J",
        "outputId": "36f055b4-4e4f-4860-b018-1157d23bc69a"
      },
      "execution_count": null,
      "outputs": [
        {
          "output_type": "stream",
          "name": "stdout",
          "text": [
            "122 122 122\n"
          ]
        }
      ]
    },
    {
      "cell_type": "code",
      "source": [
        "# 3 forma de nomear como lista\n",
        "\n",
        "Lista_Carros = [\"W\", \"Audi\", \"Ford\"]\n",
        "marca_01, marca_02, marca_03 = Lista_Carros\n",
        "\n",
        "print(marca_01, marca_02, marca_03)"
      ],
      "metadata": {
        "colab": {
          "base_uri": "https://localhost:8080/"
        },
        "id": "LnIvd7pawbnw",
        "outputId": "91fb5cfe-6617-4d75-c8d0-4a2e7fd4d0f5"
      },
      "execution_count": null,
      "outputs": [
        {
          "output_type": "stream",
          "name": "stdout",
          "text": [
            "W Audi Ford\n"
          ]
        }
      ]
    },
    {
      "cell_type": "markdown",
      "source": [
        "**6- Tipo de Informação**\n"
      ],
      "metadata": {
        "id": "hfbLsfeLugxQ"
      }
    },
    {
      "cell_type": "markdown",
      "source": [
        "Na programação, o tipo de dados é um conceito importante. Variáveis podem armazenar dados de diferentes tipos. O Pythn tem os seguintes tipos de dados integrados por padrão, nestas categorias:\n",
        "\n",
        "1. Text Type: str\n",
        "2. Numeric Type: int, float, complex\n",
        "3. Sequence Types: list, tuple, range\n",
        "4. Mapping Type: dict\n",
        "5. Set Types: set, frozenset\n",
        "6. Boolean Type: bool\n",
        "7. Binary Types: bytes, bytearray, memoryview"
      ],
      "metadata": {
        "id": "Tz0ynX7Op2IH"
      }
    },
    {
      "cell_type": "code",
      "source": [
        "String = str(\"Olá\")\n",
        "Inteiro = int( 12 )\n",
        "Flutuante = float( 100.5 )\n",
        "Complex = complex( 1j )\n",
        "Lista = list( (\"Lima\", \"Kiwi\"))\n",
        "Tupla = tuple(( \"A\", \"B\"))\n",
        "Range = range(6)\n",
        "Dicionario = dict( nome=\"Aline\", age=15)\n",
        "Set = set((\"A\", \"B\", \"C\"))\n",
        "Boleano = bool( 5 )\n",
        "Bytes = bytes( 6 )\n",
        "ByteArray = bytearray( 5 )\n",
        "Memoryview = memoryview( bytes(6) )\n",
        "\n",
        "from datetime import datetime\n",
        "Data = datetime.today().date()\n"
      ],
      "metadata": {
        "id": "d3hrWGLDufJV"
      },
      "execution_count": null,
      "outputs": []
    },
    {
      "cell_type": "code",
      "source": [
        "# Atentar para o tipo de variável quando deseja concatenar \n",
        "\n",
        "Nome = \"Ana \"\n",
        "Idade = str( 30 )   # 30 no caso é um inteiro tera que avisar antes para transformar em string\n",
        "\n",
        "Nome + Idade + \" anos\"\n"
      ],
      "metadata": {
        "colab": {
          "base_uri": "https://localhost:8080/",
          "height": 35
        },
        "id": "o44ncGO_picm",
        "outputId": "c5fad554-2958-4ce6-b364-b7b3f38ddad8"
      },
      "execution_count": 4,
      "outputs": [
        {
          "output_type": "execute_result",
          "data": {
            "text/plain": [
              "'Ana 30 anos'"
            ],
            "application/vnd.google.colaboratory.intrinsic+json": {
              "type": "string"
            }
          },
          "metadata": {},
          "execution_count": 4
        }
      ]
    },
    {
      "cell_type": "code",
      "source": [
        "Investimento = 1000\n",
        "Taxa_juros = float( \"0.5\" )\n",
        "\n",
        "Investimento * Taxa_juros"
      ],
      "metadata": {
        "colab": {
          "base_uri": "https://localhost:8080/"
        },
        "id": "cg2jl16ipoOp",
        "outputId": "276df5ce-81ae-4e52-c5da-8c36fbe0904f"
      },
      "execution_count": 5,
      "outputs": [
        {
          "output_type": "execute_result",
          "data": {
            "text/plain": [
              "500.0"
            ]
          },
          "metadata": {},
          "execution_count": 5
        }
      ]
    },
    {
      "cell_type": "markdown",
      "source": [
        "**7- Comando Round**: \n",
        "Quando trabalhamos com números flutuantes, podemos arredondar o valor usando um comando nativo do Python, ajuda a diminuir as casas decimais para facilitar o trabalho, arrenda para o valor mais próximo\n",
        "round( valor, número de casas)\n"
      ],
      "metadata": {
        "id": "kUHHO-qbx0iO"
      }
    },
    {
      "cell_type": "code",
      "source": [
        "# Comando roud\n",
        "Valor_Exemplo = 12.12324789 "
      ],
      "metadata": {
        "id": "DFkvMEIQufA-"
      },
      "execution_count": null,
      "outputs": []
    },
    {
      "cell_type": "code",
      "source": [
        "print( Valor_Exemplo )\n",
        " "
      ],
      "metadata": {
        "colab": {
          "base_uri": "https://localhost:8080/"
        },
        "id": "K1yZCAftue5v",
        "outputId": "7e9928fc-7bf8-4e53-f346-1e2b9d4f6c58"
      },
      "execution_count": null,
      "outputs": [
        {
          "output_type": "stream",
          "name": "stdout",
          "text": [
            "12.12324789\n"
          ]
        }
      ]
    },
    {
      "cell_type": "code",
      "source": [
        "round(Valor_Exemplo, 5 )\n"
      ],
      "metadata": {
        "colab": {
          "base_uri": "https://localhost:8080/"
        },
        "id": "9S0WI38OuenG",
        "outputId": "e4a6e9ea-c88b-4f4a-ee1d-2f0a1e809b1a"
      },
      "execution_count": null,
      "outputs": [
        {
          "output_type": "execute_result",
          "data": {
            "text/plain": [
              "12.12325"
            ]
          },
          "metadata": {},
          "execution_count": 15
        }
      ]
    },
    {
      "cell_type": "markdown",
      "source": [
        "8- Comando Len - retorna a quantidade de elementos de qualquer lista em Python"
      ],
      "metadata": {
        "id": "RpaO9Nbbzz7F"
      }
    },
    {
      "cell_type": "code",
      "source": [
        "Lista = [1,2,3,5,6,7,8,10]\n",
        "Dicionario = {\"Nome\":\"Aline\",\"Idade\":30}\n",
        "Tupla = (1,4,5)\n",
        "String = \"Bom dia\""
      ],
      "metadata": {
        "id": "CLOSnSGJz_XV"
      },
      "execution_count": null,
      "outputs": []
    },
    {
      "cell_type": "code",
      "source": [
        "len( Tupla )"
      ],
      "metadata": {
        "colab": {
          "base_uri": "https://localhost:8080/"
        },
        "id": "AlUJNYyh04Jw",
        "outputId": "e2021831-0604-403a-dfad-bcfc5b01c9e0"
      },
      "execution_count": null,
      "outputs": [
        {
          "output_type": "execute_result",
          "data": {
            "text/plain": [
              "3"
            ]
          },
          "metadata": {},
          "execution_count": 19
        }
      ]
    },
    {
      "cell_type": "markdown",
      "source": [
        "9 - Manipulando Strings"
      ],
      "metadata": {
        "id": "4fhRT-y2zIVn"
      }
    },
    {
      "cell_type": "code",
      "source": [
        "# Definir 1 String, verificar quantos elementos possue, tipo(classe) e \n",
        "# concatenar\n",
        "\n",
        "String_1 = \"Bom dia, Cibelle.\" \n",
        "print(String_1)\n"
      ],
      "metadata": {
        "colab": {
          "base_uri": "https://localhost:8080/"
        },
        "id": "Cd7JqtQ80rhs",
        "outputId": "7b00ba26-e916-41c5-8c9f-c2e480d7a4b1"
      },
      "execution_count": null,
      "outputs": [
        {
          "output_type": "stream",
          "name": "stdout",
          "text": [
            "Bom dia, Cibelle.\n"
          ]
        }
      ]
    },
    {
      "cell_type": "code",
      "source": [
        "len(String_1)"
      ],
      "metadata": {
        "colab": {
          "base_uri": "https://localhost:8080/"
        },
        "id": "n7HXR25-12qO",
        "outputId": "dc355044-f2b0-4d4e-f7d2-a6ae7b75313b"
      },
      "execution_count": null,
      "outputs": [
        {
          "output_type": "execute_result",
          "data": {
            "text/plain": [
              "17"
            ]
          },
          "metadata": {},
          "execution_count": 8
        }
      ]
    },
    {
      "cell_type": "code",
      "source": [
        "type(String_1)"
      ],
      "metadata": {
        "colab": {
          "base_uri": "https://localhost:8080/"
        },
        "id": "6Xn90kHe19td",
        "outputId": "8ef697a3-d827-44c5-ec05-8e112d1097da"
      },
      "execution_count": null,
      "outputs": [
        {
          "output_type": "execute_result",
          "data": {
            "text/plain": [
              "str"
            ]
          },
          "metadata": {},
          "execution_count": 9
        }
      ]
    },
    {
      "cell_type": "code",
      "source": [
        "String_1 + \" Como você está?\""
      ],
      "metadata": {
        "colab": {
          "base_uri": "https://localhost:8080/",
          "height": 35
        },
        "id": "7zg-10aX2Cx8",
        "outputId": "14550c02-d246-4c2e-973a-571bc8edb0f0"
      },
      "execution_count": null,
      "outputs": [
        {
          "output_type": "execute_result",
          "data": {
            "text/plain": [
              "'Bom dia, Cibelle. Como você está?'"
            ],
            "application/vnd.google.colaboratory.intrinsic+json": {
              "type": "string"
            }
          },
          "metadata": {},
          "execution_count": 11
        }
      ]
    },
    {
      "cell_type": "code",
      "source": [
        "# Replace -> Substituir\n",
        "\n",
        "String_1.replace(\"Bom dia, Cibelle\", 'Boa tarde, Cibelle')"
      ],
      "metadata": {
        "colab": {
          "base_uri": "https://localhost:8080/",
          "height": 35
        },
        "id": "-uvxAK2-2W7e",
        "outputId": "822e1ab5-ade3-4bfb-a831-98c6edd43939"
      },
      "execution_count": null,
      "outputs": [
        {
          "output_type": "execute_result",
          "data": {
            "text/plain": [
              "'Boa tarde, Cibelle.'"
            ],
            "application/vnd.google.colaboratory.intrinsic+json": {
              "type": "string"
            }
          },
          "metadata": {},
          "execution_count": 12
        }
      ]
    },
    {
      "cell_type": "code",
      "source": [
        "#Verificar como começa uma string (startswith)\n",
        "String_1.startswith(\"Bom\")"
      ],
      "metadata": {
        "colab": {
          "base_uri": "https://localhost:8080/"
        },
        "id": "r3FwEW3fNkVW",
        "outputId": "f5726801-08a6-41b3-b362-6ecd23b5feef"
      },
      "execution_count": null,
      "outputs": [
        {
          "output_type": "execute_result",
          "data": {
            "text/plain": [
              "True"
            ]
          },
          "metadata": {},
          "execution_count": 3
        }
      ]
    },
    {
      "cell_type": "code",
      "source": [
        "#Verificar como termina (endswith)\n",
        "String_1.endswith(\"dia\")"
      ],
      "metadata": {
        "colab": {
          "base_uri": "https://localhost:8080/"
        },
        "id": "Wk_rC6b8Nj92",
        "outputId": "8d41bfa0-8d0f-4cba-9978-5d5d2ad841f9"
      },
      "execution_count": null,
      "outputs": [
        {
          "output_type": "execute_result",
          "data": {
            "text/plain": [
              "False"
            ]
          },
          "metadata": {},
          "execution_count": 4
        }
      ]
    },
    {
      "cell_type": "code",
      "source": [
        "String_1.endswith(\"Cibelle.\")"
      ],
      "metadata": {
        "colab": {
          "base_uri": "https://localhost:8080/"
        },
        "id": "HBCV3QkDOU_H",
        "outputId": "6da73efb-a257-4497-c1ec-f38e04e917af"
      },
      "execution_count": null,
      "outputs": [
        {
          "output_type": "execute_result",
          "data": {
            "text/plain": [
              "True"
            ]
          },
          "metadata": {},
          "execution_count": 8
        }
      ]
    },
    {
      "cell_type": "code",
      "source": [
        "#contar palavras ou letras\n",
        "String_1.count(\"C\")"
      ],
      "metadata": {
        "colab": {
          "base_uri": "https://localhost:8080/"
        },
        "id": "bkeoS_WBOnn9",
        "outputId": "43ee0785-a3bd-44fc-fa39-4e84476bf3d6"
      },
      "execution_count": null,
      "outputs": [
        {
          "output_type": "execute_result",
          "data": {
            "text/plain": [
              "1"
            ]
          },
          "metadata": {},
          "execution_count": 9
        }
      ]
    },
    {
      "cell_type": "code",
      "source": [
        "#Transformação minusculo para maiusculo na inicial\n",
        "Nome = \"ana\"  "
      ],
      "metadata": {
        "id": "kOF2seV-O7a8"
      },
      "execution_count": null,
      "outputs": []
    },
    {
      "cell_type": "code",
      "source": [
        "Nome.capitalize()"
      ],
      "metadata": {
        "colab": {
          "base_uri": "https://localhost:8080/",
          "height": 35
        },
        "id": "QFIBUYvgPK1g",
        "outputId": "fbb77abb-0176-44c1-940e-29bbf48aaad1"
      },
      "execution_count": null,
      "outputs": [
        {
          "output_type": "execute_result",
          "data": {
            "text/plain": [
              "'Ana'"
            ],
            "application/vnd.google.colaboratory.intrinsic+json": {
              "type": "string"
            }
          },
          "metadata": {},
          "execution_count": 11
        }
      ]
    },
    {
      "cell_type": "code",
      "source": [
        "# Verifica se existe um valor numérico\n",
        "String_RG = \"22254880\""
      ],
      "metadata": {
        "id": "5wCuu12NPKus"
      },
      "execution_count": null,
      "outputs": []
    },
    {
      "cell_type": "code",
      "source": [
        "String_RG.isdigit()"
      ],
      "metadata": {
        "colab": {
          "base_uri": "https://localhost:8080/"
        },
        "id": "uWvp8_0VPKlo",
        "outputId": "e3201da6-e021-4d32-a366-5650b5a7e81f"
      },
      "execution_count": null,
      "outputs": [
        {
          "output_type": "execute_result",
          "data": {
            "text/plain": [
              "True"
            ]
          },
          "metadata": {},
          "execution_count": 13
        }
      ]
    },
    {
      "cell_type": "code",
      "source": [
        "# Verifica se a string alfanumerica\n",
        "String_1.isalnum()"
      ],
      "metadata": {
        "colab": {
          "base_uri": "https://localhost:8080/"
        },
        "id": "jyg_ltymPKZv",
        "outputId": "66b98470-6b76-4517-d298-29ef82cd7a03"
      },
      "execution_count": null,
      "outputs": [
        {
          "output_type": "execute_result",
          "data": {
            "text/plain": [
              "False"
            ]
          },
          "metadata": {},
          "execution_count": 16
        }
      ]
    },
    {
      "cell_type": "code",
      "source": [
        "# upper transforma tudo em minuscula em maiusculo\n",
        "\n",
        "Nome = \"angela\"\n",
        "Nome.upper()"
      ],
      "metadata": {
        "colab": {
          "base_uri": "https://localhost:8080/",
          "height": 35
        },
        "id": "nHlENbSmP7Kw",
        "outputId": "26bde31d-4145-4f88-f962-6003a5cf96a9"
      },
      "execution_count": null,
      "outputs": [
        {
          "output_type": "execute_result",
          "data": {
            "text/plain": [
              "'ANGELA'"
            ],
            "application/vnd.google.colaboratory.intrinsic+json": {
              "type": "string"
            }
          },
          "metadata": {},
          "execution_count": 17
        }
      ]
    },
    {
      "cell_type": "code",
      "source": [
        "# lower transforma tudo em maiusculo em minusculo\n",
        "\n",
        "Nome1 = \"JULIA\"\n",
        "Nome1.lower()\n"
      ],
      "metadata": {
        "colab": {
          "base_uri": "https://localhost:8080/",
          "height": 35
        },
        "id": "BigQHO7cP7Sw",
        "outputId": "361ff4e6-b210-4ff8-9ff9-10c2bc6b5a4e"
      },
      "execution_count": null,
      "outputs": [
        {
          "output_type": "execute_result",
          "data": {
            "text/plain": [
              "'julia'"
            ],
            "application/vnd.google.colaboratory.intrinsic+json": {
              "type": "string"
            }
          },
          "metadata": {},
          "execution_count": 18
        }
      ]
    },
    {
      "cell_type": "code",
      "source": [
        "# find - serve para localiza \n",
        "\n",
        "Frase = \"Hoje está frio.\""
      ],
      "metadata": {
        "id": "gx61d1eSRnfT"
      },
      "execution_count": null,
      "outputs": []
    },
    {
      "cell_type": "code",
      "source": [
        "Frase.find(\"está\")"
      ],
      "metadata": {
        "colab": {
          "base_uri": "https://localhost:8080/"
        },
        "id": "bYXm69x1RndB",
        "outputId": "4dbca35a-2a59-4f9f-d87c-948de78cf0fb"
      },
      "execution_count": null,
      "outputs": [
        {
          "output_type": "execute_result",
          "data": {
            "text/plain": [
              "5"
            ]
          },
          "metadata": {},
          "execution_count": 20
        }
      ]
    },
    {
      "cell_type": "code",
      "source": [
        "# o que significa o 5 na anterior que a palavra está começa na quinta posição"
      ],
      "metadata": {
        "id": "CJNuoAt3RnZ4"
      },
      "execution_count": null,
      "outputs": []
    },
    {
      "cell_type": "code",
      "source": [
        "#  strip - remove espaço antes ou depois\n",
        "\n",
        "Endereco = \" R Joana Darc 16 \""
      ],
      "metadata": {
        "id": "0J9TGyO4RnXj"
      },
      "execution_count": null,
      "outputs": []
    },
    {
      "cell_type": "code",
      "source": [
        "Endereco.strip()"
      ],
      "metadata": {
        "colab": {
          "base_uri": "https://localhost:8080/",
          "height": 35
        },
        "id": "TN8yMJ2KP7Zn",
        "outputId": "688129e9-f0d9-4919-f3db-ed17b6f3d5ac"
      },
      "execution_count": null,
      "outputs": [
        {
          "output_type": "execute_result",
          "data": {
            "text/plain": [
              "'R Joana Darc 16'"
            ],
            "application/vnd.google.colaboratory.intrinsic+json": {
              "type": "string"
            }
          },
          "metadata": {},
          "execution_count": 23
        }
      ]
    },
    {
      "cell_type": "code",
      "source": [
        "# split - ele quebra a string em fatias\n",
        "\n",
        "Frase3 = \"Estou muito feliz, hoje\""
      ],
      "metadata": {
        "id": "wG1bJjd0SoXg"
      },
      "execution_count": null,
      "outputs": []
    },
    {
      "cell_type": "code",
      "source": [
        "Frase3.split()"
      ],
      "metadata": {
        "colab": {
          "base_uri": "https://localhost:8080/"
        },
        "id": "iIZF0ZgcSoOd",
        "outputId": "39cf7553-47c7-44b7-8b15-32b3f3f7fdae"
      },
      "execution_count": null,
      "outputs": [
        {
          "output_type": "execute_result",
          "data": {
            "text/plain": [
              "['Estou', 'muito', 'feliz,', 'hoje']"
            ]
          },
          "metadata": {},
          "execution_count": 25
        }
      ]
    },
    {
      "cell_type": "code",
      "source": [
        "Frase3.split(\",\")"
      ],
      "metadata": {
        "colab": {
          "base_uri": "https://localhost:8080/"
        },
        "id": "srrpxoMJSoBb",
        "outputId": "9403c813-49d6-46d0-e2ed-6b29681ab313"
      },
      "execution_count": null,
      "outputs": [
        {
          "output_type": "execute_result",
          "data": {
            "text/plain": [
              "['Estou muito feliz', ' hoje']"
            ]
          },
          "metadata": {},
          "execution_count": 26
        }
      ]
    },
    {
      "cell_type": "markdown",
      "source": [
        "10 - Comando Input -> A funçao input recebe como parametro uma string que será\n",
        "mostrada com o auxilio ao usuario, geralmente o informando que tipo de \n",
        "dado o programa está aguardando receber"
      ],
      "metadata": {
        "id": "IebUB6MTTWwq"
      }
    },
    {
      "cell_type": "code",
      "source": [
        "# input\n",
        "input (\"alguma mensagem!\")"
      ],
      "metadata": {
        "colab": {
          "base_uri": "https://localhost:8080/",
          "height": 53
        },
        "id": "nRRLYP24TblW",
        "outputId": "262c0791-466e-494c-d122-6703d690efd6"
      },
      "execution_count": null,
      "outputs": [
        {
          "name": "stdout",
          "output_type": "stream",
          "text": [
            "alguma mensagem!alguma\n"
          ]
        },
        {
          "output_type": "execute_result",
          "data": {
            "text/plain": [
              "'alguma'"
            ],
            "application/vnd.google.colaboratory.intrinsic+json": {
              "type": "string"
            }
          },
          "metadata": {},
          "execution_count": 28
        }
      ]
    },
    {
      "cell_type": "code",
      "source": [
        "# Form\n",
        "\n",
        "Nome = input(\"Qual seu nome: \")\n",
        "Idade = input(\"Qual é sua idade: \")\n",
        "\n",
        "print(\"Seu nome é: \", Nome)\n",
        "print(\"Sua idade é: \", Idade)"
      ],
      "metadata": {
        "colab": {
          "base_uri": "https://localhost:8080/"
        },
        "id": "LfmjGEtYTWRj",
        "outputId": "78f4d2c4-1000-489a-ff93-39a83d914305"
      },
      "execution_count": null,
      "outputs": [
        {
          "output_type": "stream",
          "name": "stdout",
          "text": [
            "Qual seu nome: Angela\n",
            "Qual é sua idade: 31\n",
            "Seu nome é:  Angela\n",
            "Sua idade é:  31\n"
          ]
        }
      ]
    },
    {
      "cell_type": "markdown",
      "source": [
        "**11 - Parte de lógica**\n",
        "\n",
        "***a) Operadores de Comparação***\n",
        "\n",
        "\"==\" ( Igual a ) <p>\n",
        "\"!=\" ( Diferente )<p>\n",
        "\">\" ( Maior)<p>\n",
        "\"<\" ( Menor)<p>\n",
        "\">=\" ( Maior igual)<p>\n",
        "\"<\" ( Menor igual )<p>\n"
      ],
      "metadata": {
        "id": "JZXQqp6fU7GQ"
      }
    },
    {
      "cell_type": "code",
      "source": [
        "10 == 10"
      ],
      "metadata": {
        "colab": {
          "base_uri": "https://localhost:8080/"
        },
        "id": "qVBIHMN0Ux_v",
        "outputId": "f746cbb9-1935-4ed9-d34b-22d5657e4449"
      },
      "execution_count": null,
      "outputs": [
        {
          "output_type": "execute_result",
          "data": {
            "text/plain": [
              "True"
            ]
          },
          "metadata": {},
          "execution_count": 30
        }
      ]
    },
    {
      "cell_type": "code",
      "source": [
        "10 != 9"
      ],
      "metadata": {
        "colab": {
          "base_uri": "https://localhost:8080/"
        },
        "id": "W7vHfhihV1CI",
        "outputId": "94999d27-034d-4aa1-8148-4de5e9a95105"
      },
      "execution_count": null,
      "outputs": [
        {
          "output_type": "execute_result",
          "data": {
            "text/plain": [
              "True"
            ]
          },
          "metadata": {},
          "execution_count": 31
        }
      ]
    },
    {
      "cell_type": "code",
      "source": [
        "10 != 10"
      ],
      "metadata": {
        "colab": {
          "base_uri": "https://localhost:8080/"
        },
        "id": "D0kikipgV1KH",
        "outputId": "f9f46deb-5342-4021-9469-bdab15c1f4a7"
      },
      "execution_count": null,
      "outputs": [
        {
          "output_type": "execute_result",
          "data": {
            "text/plain": [
              "False"
            ]
          },
          "metadata": {},
          "execution_count": 32
        }
      ]
    },
    {
      "cell_type": "markdown",
      "source": [
        "b) Operadores lógicos - são usados para combinar instrucoes condicionais\n",
        "\n",
        "- **and** ( Retorna True se ambas as declaraçoes forem verdadeira ) <p>\n",
        "- **or** (Retorna True se uma das declaracoes for verdadeira) <p> \n",
        "- **not** (inverte o Resultado, retorna False se o resultado for verdadeiro)"
      ],
      "metadata": {
        "id": "mBV5kAteWgpR"
      }
    },
    {
      "cell_type": "code",
      "source": [
        "10 > 2 and 10 > 3 "
      ],
      "metadata": {
        "colab": {
          "base_uri": "https://localhost:8080/"
        },
        "id": "dauqNlkjV1NZ",
        "outputId": "015d4eac-1fd1-48a1-ba26-98cf0f23faa9"
      },
      "execution_count": null,
      "outputs": [
        {
          "output_type": "execute_result",
          "data": {
            "text/plain": [
              "True"
            ]
          },
          "metadata": {},
          "execution_count": 33
        }
      ]
    },
    {
      "cell_type": "code",
      "source": [
        "10 != 5 or 10 != 10"
      ],
      "metadata": {
        "colab": {
          "base_uri": "https://localhost:8080/"
        },
        "id": "chzWguGwV1RW",
        "outputId": "44aa6889-9dc5-4196-97ae-436eca73e568"
      },
      "execution_count": null,
      "outputs": [
        {
          "output_type": "execute_result",
          "data": {
            "text/plain": [
              "True"
            ]
          },
          "metadata": {},
          "execution_count": 34
        }
      ]
    },
    {
      "cell_type": "code",
      "source": [
        "lista = [ 3, 6, 9 ]"
      ],
      "metadata": {
        "id": "G7cd4AC7V1UT"
      },
      "execution_count": null,
      "outputs": []
    },
    {
      "cell_type": "code",
      "source": [
        "6 in lista  # in representa que está"
      ],
      "metadata": {
        "colab": {
          "base_uri": "https://localhost:8080/"
        },
        "id": "g9O-DSuGV1W2",
        "outputId": "5ddff6f1-eb5d-4b16-e281-92be6d78c954"
      },
      "execution_count": null,
      "outputs": [
        {
          "output_type": "execute_result",
          "data": {
            "text/plain": [
              "True"
            ]
          },
          "metadata": {},
          "execution_count": 36
        }
      ]
    },
    {
      "cell_type": "code",
      "source": [
        "6 not in lista # not in representa que nao esta"
      ],
      "metadata": {
        "colab": {
          "base_uri": "https://localhost:8080/"
        },
        "id": "LP1I5FgLYatK",
        "outputId": "32194ac8-c2ae-4236-d3ec-42cc01caa1bc"
      },
      "execution_count": null,
      "outputs": [
        {
          "output_type": "execute_result",
          "data": {
            "text/plain": [
              "False"
            ]
          },
          "metadata": {},
          "execution_count": 38
        }
      ]
    },
    {
      "cell_type": "markdown",
      "source": [
        "c) Operadores de Identidade:<p>\n",
        "\n",
        "São usados para comparar os objetos, não se forem iguais,\n",
        "mas se forem realmente o mesmo objeto, com a mesma localizao de memoria. <p>\n",
        "\n",
        "- **is** ( Retorna True se ambas as variaveis forem o mesmo objeto)<p>\n",
        "- **is not** (Retorna True se ambas as variaveis não forem o mesmo objeto)\n",
        "\n"
      ],
      "metadata": {
        "id": "j5nfGJuaYs85"
      }
    },
    {
      "cell_type": "code",
      "source": [
        "String_04 = \"Oi\"\n",
        "String_05 = \"Oi\""
      ],
      "metadata": {
        "id": "dlZJGrwuY8Hp"
      },
      "execution_count": null,
      "outputs": []
    },
    {
      "cell_type": "code",
      "source": [
        "type(String_04) == type(String_05)"
      ],
      "metadata": {
        "colab": {
          "base_uri": "https://localhost:8080/"
        },
        "id": "omClRKKYZ903",
        "outputId": "a0487dd8-1072-493d-8ec3-334bba565445"
      },
      "execution_count": null,
      "outputs": [
        {
          "output_type": "execute_result",
          "data": {
            "text/plain": [
              "True"
            ]
          },
          "metadata": {},
          "execution_count": 41
        }
      ]
    },
    {
      "cell_type": "code",
      "source": [
        "type(String_04) is type(String_05)"
      ],
      "metadata": {
        "colab": {
          "base_uri": "https://localhost:8080/"
        },
        "id": "VyLSmnPjZ9oO",
        "outputId": "38213663-0c4a-4101-cba5-e772ac7d5971"
      },
      "execution_count": null,
      "outputs": [
        {
          "output_type": "execute_result",
          "data": {
            "text/plain": [
              "True"
            ]
          },
          "metadata": {},
          "execution_count": 42
        }
      ]
    },
    {
      "cell_type": "code",
      "source": [
        "type(String_04) is not type(String_05)"
      ],
      "metadata": {
        "colab": {
          "base_uri": "https://localhost:8080/"
        },
        "id": "FgGOd8t7aLhd",
        "outputId": "38bf3294-0b87-458a-8afc-65b32f953e9f"
      },
      "execution_count": null,
      "outputs": [
        {
          "output_type": "execute_result",
          "data": {
            "text/plain": [
              "False"
            ]
          },
          "metadata": {},
          "execution_count": 44
        }
      ]
    },
    {
      "cell_type": "markdown",
      "source": [
        "12 - Manipulação de Listas\n",
        "\n",
        "As listas são usadas para armazenar vários itens em uma única variável.\n",
        "\n",
        "As listas são um dos 4 tipos de dados internos do Python usados para armazenar coleções de dados, os outros 3 são Tuple, Set e Dictionary, todos com qualidades e usos diferentes.\n",
        "\n",
        "Comandos mais utilizados:\n",
        "\n",
        "1. append()  - Para adicionar um item ao final da lista\n",
        "2. len() - Calcular o tamanho da lista\n",
        "3. [] - acessar posiçoes\n",
        "4. del() - Excluir um elemento\n",
        "5. clear() - Limpar a lista\n",
        "6. insert() - Para inserir um item de lista em um índice especificado\n",
        "7. extend() - Anexar elementos de outra lista à lista atual\n",
        "8. remove() - Remove o item especificado\n",
        "10. sort() - Ordenar os valores\n",
        "11. copy() - fa uma cópia da lista\n",
        "12. index() - Retorna o index do elemento da lista"
      ],
      "metadata": {
        "id": "hpKj3gl1q-ny"
      }
    },
    {
      "cell_type": "code",
      "source": [
        "Lista_Vazia = []\n",
        "print ( Lista_Vazia )"
      ],
      "metadata": {
        "colab": {
          "base_uri": "https://localhost:8080/"
        },
        "id": "G8DNTG3vsOdI",
        "outputId": "11b660f4-4a9b-4c0c-bfcc-ed8d89b1cdfd"
      },
      "execution_count": 6,
      "outputs": [
        {
          "output_type": "stream",
          "name": "stdout",
          "text": [
            "[]\n"
          ]
        }
      ]
    },
    {
      "cell_type": "code",
      "source": [
        "Lista_Vazia.append(2)\n",
        "Lista_Vazia.append(3)\n",
        "Lista_Vazia.append(\"Valor\")"
      ],
      "metadata": {
        "id": "mIHtmmP4sa7t"
      },
      "execution_count": 7,
      "outputs": []
    },
    {
      "cell_type": "code",
      "source": [
        "Lista_Vazia\n"
      ],
      "metadata": {
        "colab": {
          "base_uri": "https://localhost:8080/"
        },
        "id": "hfZHuCR_satB",
        "outputId": "fbf271f6-7fdd-4e62-d311-1008bc244a08"
      },
      "execution_count": 8,
      "outputs": [
        {
          "output_type": "execute_result",
          "data": {
            "text/plain": [
              "[2, 3, 'Valor']"
            ]
          },
          "metadata": {},
          "execution_count": 8
        }
      ]
    },
    {
      "cell_type": "code",
      "source": [
        "len(Lista_Vazia)  "
      ],
      "metadata": {
        "colab": {
          "base_uri": "https://localhost:8080/"
        },
        "id": "xBt99vkQsu4M",
        "outputId": "88a85a5e-16b8-47aa-de75-b0705a0c20b6"
      },
      "execution_count": 9,
      "outputs": [
        {
          "output_type": "execute_result",
          "data": {
            "text/plain": [
              "3"
            ]
          },
          "metadata": {},
          "execution_count": 9
        }
      ]
    },
    {
      "cell_type": "code",
      "source": [
        "# acessar - a lista vazia começa no zero\n",
        "\n",
        "Lista_Vazia[0]"
      ],
      "metadata": {
        "colab": {
          "base_uri": "https://localhost:8080/"
        },
        "id": "eIeLaZ86suus",
        "outputId": "f465118e-1a71-4721-87cf-4e4d4a8f290a"
      },
      "execution_count": 10,
      "outputs": [
        {
          "output_type": "execute_result",
          "data": {
            "text/plain": [
              "2"
            ]
          },
          "metadata": {},
          "execution_count": 10
        }
      ]
    },
    {
      "cell_type": "markdown",
      "source": [
        "13 - Pacote Externo - Datetime\n",
        "\n",
        "O datetime módulo fornece classes para manipulação de datas e horas"
      ],
      "metadata": {
        "id": "Bih4Wpz7vQxE"
      }
    },
    {
      "cell_type": "code",
      "source": [
        " type( \"02/02/2000\")"
      ],
      "metadata": {
        "colab": {
          "base_uri": "https://localhost:8080/"
        },
        "id": "Utok631osukL",
        "outputId": "4c4bf61d-fe02-4b57-b563-79675941a045"
      },
      "execution_count": 11,
      "outputs": [
        {
          "output_type": "execute_result",
          "data": {
            "text/plain": [
              "str"
            ]
          },
          "metadata": {},
          "execution_count": 11
        }
      ]
    },
    {
      "cell_type": "markdown",
      "source": [
        "Para trabalhar com datas e horas, utilizamos o pacote datetime, \n",
        "neste caso importamos ele."
      ],
      "metadata": {
        "id": "Ubmp_fp0wI0S"
      }
    },
    {
      "cell_type": "code",
      "source": [
        "import datetime\n",
        "\n"
      ],
      "metadata": {
        "id": "i8nmibaDv0ey"
      },
      "execution_count": 16,
      "outputs": []
    },
    {
      "cell_type": "code",
      "source": [
        "Dia_Hoje = datetime.datetime.today()\n",
        "\n",
        "print(Dia_Hoje)"
      ],
      "metadata": {
        "colab": {
          "base_uri": "https://localhost:8080/"
        },
        "id": "I3hW5RlSwbJO",
        "outputId": "b5ceebf2-9411-4c27-ecdb-f031cce1a19b"
      },
      "execution_count": 18,
      "outputs": [
        {
          "output_type": "stream",
          "name": "stdout",
          "text": [
            "2022-06-03 22:54:47.392888\n"
          ]
        }
      ]
    },
    {
      "cell_type": "code",
      "source": [
        "type(Dia_Hoje)"
      ],
      "metadata": {
        "colab": {
          "base_uri": "https://localhost:8080/"
        },
        "id": "LLWKbc5nwbGf",
        "outputId": "d312f081-6e7d-42c7-b755-c72d889cb29a"
      },
      "execution_count": 19,
      "outputs": [
        {
          "output_type": "execute_result",
          "data": {
            "text/plain": [
              "datetime.datetime"
            ]
          },
          "metadata": {},
          "execution_count": 19
        }
      ]
    },
    {
      "cell_type": "code",
      "source": [
        "print(datetime.datetime.today().date())"
      ],
      "metadata": {
        "colab": {
          "base_uri": "https://localhost:8080/"
        },
        "id": "HygCXCAUyD3b",
        "outputId": "5a09e94a-c332-4ac4-8734-0f6d91d21d07"
      },
      "execution_count": 20,
      "outputs": [
        {
          "output_type": "stream",
          "name": "stdout",
          "text": [
            "2022-06-03\n"
          ]
        }
      ]
    },
    {
      "cell_type": "code",
      "source": [
        "Data = datetime.datetime.today().date()"
      ],
      "metadata": {
        "id": "IyngD8RpyDtG"
      },
      "execution_count": 21,
      "outputs": []
    },
    {
      "cell_type": "code",
      "source": [
        "Ano = Data.year\n",
        "Mes = Data.month \n",
        "Dia = Data.day"
      ],
      "metadata": {
        "id": "dPp6EOCwyVmD"
      },
      "execution_count": null,
      "outputs": []
    },
    {
      "cell_type": "code",
      "source": [
        ""
      ],
      "metadata": {
        "id": "UzVFCJ7xyVaq"
      },
      "execution_count": null,
      "outputs": []
    }
  ]
}